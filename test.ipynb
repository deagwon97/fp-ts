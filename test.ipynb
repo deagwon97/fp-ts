{
 "metadata": {
  "language_info": {
   "codemirror_mode": {
    "name": "ipython",
    "version": 3
   },
   "file_extension": ".py",
   "mimetype": "text/x-python",
   "name": "python",
   "nbconvert_exporter": "python",
   "pygments_lexer": "ipython3",
   "version": "3.8.5-final"
  },
  "orig_nbformat": 2,
  "kernelspec": {
   "name": "Python 3.8.5 64-bit ('deep': conda)",
   "display_name": "Python 3.8.5 64-bit ('deep': conda)",
   "metadata": {
    "interpreter": {
     "hash": "e3dd400f5d87c1a87f15209f9ca1847d91223dd67820b2a3322b88f3be052679"
    }
   }
  }
 },
 "nbformat": 4,
 "nbformat_minor": 2,
 "cells": [
  {
   "cell_type": "code",
   "execution_count": 1,
   "metadata": {},
   "outputs": [],
   "source": [
    "import pandas as pd"
   ]
  },
  {
   "cell_type": "code",
   "execution_count": 2,
   "metadata": {},
   "outputs": [],
   "source": [
    "nontime_data = pd.read_csv('data/original/nontime_data.txt', sep = ' ')\n",
    "time_data = pd.read_csv('data/original/time_data.txt', sep = ' ')"
   ]
  },
  {
   "cell_type": "code",
   "execution_count": 7,
   "metadata": {},
   "outputs": [],
   "source": [
    "data = time_data.loc[(time_data.time == 'evening' )&\n",
    "                (time_data.HDONG_NM == '고산1동')]"
   ]
  },
  {
   "cell_type": "code",
   "execution_count": 11,
   "metadata": {},
   "outputs": [
    {
     "output_type": "execute_result",
     "data": {
      "text/plain": "     STD_Y     STD_YMD HDONG_NM    HDONG_CD     time weekday  flow_pop  \\\n221   2020  2020-05-12     고산1동  2726067000  evening     화요일  36217.84   \n222   2020  2020-05-13     고산1동  2726067000  evening     수요일  44168.29   \n223   2020  2020-05-14     고산1동  2726067000  evening     목요일  45563.17   \n224   2020  2020-05-15     고산1동  2726067000  evening     금요일  42781.94   \n225   2020  2020-05-16     고산1동  2726067000  evening     토요일  41158.82   \n226   2020  2020-05-17     고산1동  2726067000  evening     일요일  33491.37   \n227   2020  2020-05-18     고산1동  2726067000  evening     월요일  40572.07   \n228   2020  2020-05-19     고산1동  2726067000  evening     화요일  44152.97   \n229   2020  2020-05-20     고산1동  2726067000  evening     수요일  47169.66   \n230   2020  2020-05-21     고산1동  2726067000  evening     목요일  49114.64   \n231   2020  2020-05-22     고산1동  2726067000  evening     금요일  49811.33   \n232   2020  2020-05-23     고산1동  2726067000  evening     토요일  43992.98   \n233   2020  2020-05-24     고산1동  2726067000  evening     일요일  40178.66   \n234   2020  2020-05-25     고산1동  2726067000  evening     월요일  42632.29   \n235   2020  2020-05-26     고산1동  2726067000  evening     화요일  45390.80   \n236   2020  2020-05-27     고산1동  2726067000  evening     수요일  39267.48   \n237   2020  2020-05-28     고산1동  2726067000  evening     목요일  44782.75   \n238   2020  2020-05-29     고산1동  2726067000  evening     금요일  45447.02   \n239   2020  2020-05-30     고산1동  2726067000  evening     토요일  42518.02   \n240   2020  2020-05-31     고산1동  2726067000  evening     일요일  41601.58   \n\n     card_use  holiday  day_corona   ondo  subdo  rain_snow  \n221    893799        0          27  22.88   31.0        0.0  \n222   1027304        0          26  23.22   25.0        0.0  \n223    900996        0          29  25.80   29.8        0.0  \n224    940339        0          27  15.42   89.4        0.0  \n225   1227189        0          19  23.98   61.6        0.0  \n226    925997        0          13  26.36   57.2        0.0  \n227    955517        0          15  20.92   75.4        0.0  \n228    852534        0          13  17.02   61.0        0.0  \n229    909782        0          32  18.36   55.2        0.0  \n230    968847        0          12  19.26   57.0        0.0  \n231    946114        0          20  21.12   55.4        0.0  \n232   1233171        0          23  26.18   38.4        0.0  \n233    641442        0          25  24.92   51.8        0.0  \n234    930746        0          16  23.76   47.6        0.0  \n235    994766        0          19  26.08   37.4        0.0  \n236   1003500        0          40  25.28   28.0        0.0  \n237    861754        0          79  24.66   36.4        0.0  \n238    986674        0          58  25.10   36.6        0.0  \n239   1210856        0          39  25.66   39.6        0.0  \n240    819518        0          27  25.94   48.4        0.0  ",
      "text/html": "<div>\n<style scoped>\n    .dataframe tbody tr th:only-of-type {\n        vertical-align: middle;\n    }\n\n    .dataframe tbody tr th {\n        vertical-align: top;\n    }\n\n    .dataframe thead th {\n        text-align: right;\n    }\n</style>\n<table border=\"1\" class=\"dataframe\">\n  <thead>\n    <tr style=\"text-align: right;\">\n      <th></th>\n      <th>STD_Y</th>\n      <th>STD_YMD</th>\n      <th>HDONG_NM</th>\n      <th>HDONG_CD</th>\n      <th>time</th>\n      <th>weekday</th>\n      <th>flow_pop</th>\n      <th>card_use</th>\n      <th>holiday</th>\n      <th>day_corona</th>\n      <th>ondo</th>\n      <th>subdo</th>\n      <th>rain_snow</th>\n    </tr>\n  </thead>\n  <tbody>\n    <tr>\n      <th>221</th>\n      <td>2020</td>\n      <td>2020-05-12</td>\n      <td>고산1동</td>\n      <td>2726067000</td>\n      <td>evening</td>\n      <td>화요일</td>\n      <td>36217.84</td>\n      <td>893799</td>\n      <td>0</td>\n      <td>27</td>\n      <td>22.88</td>\n      <td>31.0</td>\n      <td>0.0</td>\n    </tr>\n    <tr>\n      <th>222</th>\n      <td>2020</td>\n      <td>2020-05-13</td>\n      <td>고산1동</td>\n      <td>2726067000</td>\n      <td>evening</td>\n      <td>수요일</td>\n      <td>44168.29</td>\n      <td>1027304</td>\n      <td>0</td>\n      <td>26</td>\n      <td>23.22</td>\n      <td>25.0</td>\n      <td>0.0</td>\n    </tr>\n    <tr>\n      <th>223</th>\n      <td>2020</td>\n      <td>2020-05-14</td>\n      <td>고산1동</td>\n      <td>2726067000</td>\n      <td>evening</td>\n      <td>목요일</td>\n      <td>45563.17</td>\n      <td>900996</td>\n      <td>0</td>\n      <td>29</td>\n      <td>25.80</td>\n      <td>29.8</td>\n      <td>0.0</td>\n    </tr>\n    <tr>\n      <th>224</th>\n      <td>2020</td>\n      <td>2020-05-15</td>\n      <td>고산1동</td>\n      <td>2726067000</td>\n      <td>evening</td>\n      <td>금요일</td>\n      <td>42781.94</td>\n      <td>940339</td>\n      <td>0</td>\n      <td>27</td>\n      <td>15.42</td>\n      <td>89.4</td>\n      <td>0.0</td>\n    </tr>\n    <tr>\n      <th>225</th>\n      <td>2020</td>\n      <td>2020-05-16</td>\n      <td>고산1동</td>\n      <td>2726067000</td>\n      <td>evening</td>\n      <td>토요일</td>\n      <td>41158.82</td>\n      <td>1227189</td>\n      <td>0</td>\n      <td>19</td>\n      <td>23.98</td>\n      <td>61.6</td>\n      <td>0.0</td>\n    </tr>\n    <tr>\n      <th>226</th>\n      <td>2020</td>\n      <td>2020-05-17</td>\n      <td>고산1동</td>\n      <td>2726067000</td>\n      <td>evening</td>\n      <td>일요일</td>\n      <td>33491.37</td>\n      <td>925997</td>\n      <td>0</td>\n      <td>13</td>\n      <td>26.36</td>\n      <td>57.2</td>\n      <td>0.0</td>\n    </tr>\n    <tr>\n      <th>227</th>\n      <td>2020</td>\n      <td>2020-05-18</td>\n      <td>고산1동</td>\n      <td>2726067000</td>\n      <td>evening</td>\n      <td>월요일</td>\n      <td>40572.07</td>\n      <td>955517</td>\n      <td>0</td>\n      <td>15</td>\n      <td>20.92</td>\n      <td>75.4</td>\n      <td>0.0</td>\n    </tr>\n    <tr>\n      <th>228</th>\n      <td>2020</td>\n      <td>2020-05-19</td>\n      <td>고산1동</td>\n      <td>2726067000</td>\n      <td>evening</td>\n      <td>화요일</td>\n      <td>44152.97</td>\n      <td>852534</td>\n      <td>0</td>\n      <td>13</td>\n      <td>17.02</td>\n      <td>61.0</td>\n      <td>0.0</td>\n    </tr>\n    <tr>\n      <th>229</th>\n      <td>2020</td>\n      <td>2020-05-20</td>\n      <td>고산1동</td>\n      <td>2726067000</td>\n      <td>evening</td>\n      <td>수요일</td>\n      <td>47169.66</td>\n      <td>909782</td>\n      <td>0</td>\n      <td>32</td>\n      <td>18.36</td>\n      <td>55.2</td>\n      <td>0.0</td>\n    </tr>\n    <tr>\n      <th>230</th>\n      <td>2020</td>\n      <td>2020-05-21</td>\n      <td>고산1동</td>\n      <td>2726067000</td>\n      <td>evening</td>\n      <td>목요일</td>\n      <td>49114.64</td>\n      <td>968847</td>\n      <td>0</td>\n      <td>12</td>\n      <td>19.26</td>\n      <td>57.0</td>\n      <td>0.0</td>\n    </tr>\n    <tr>\n      <th>231</th>\n      <td>2020</td>\n      <td>2020-05-22</td>\n      <td>고산1동</td>\n      <td>2726067000</td>\n      <td>evening</td>\n      <td>금요일</td>\n      <td>49811.33</td>\n      <td>946114</td>\n      <td>0</td>\n      <td>20</td>\n      <td>21.12</td>\n      <td>55.4</td>\n      <td>0.0</td>\n    </tr>\n    <tr>\n      <th>232</th>\n      <td>2020</td>\n      <td>2020-05-23</td>\n      <td>고산1동</td>\n      <td>2726067000</td>\n      <td>evening</td>\n      <td>토요일</td>\n      <td>43992.98</td>\n      <td>1233171</td>\n      <td>0</td>\n      <td>23</td>\n      <td>26.18</td>\n      <td>38.4</td>\n      <td>0.0</td>\n    </tr>\n    <tr>\n      <th>233</th>\n      <td>2020</td>\n      <td>2020-05-24</td>\n      <td>고산1동</td>\n      <td>2726067000</td>\n      <td>evening</td>\n      <td>일요일</td>\n      <td>40178.66</td>\n      <td>641442</td>\n      <td>0</td>\n      <td>25</td>\n      <td>24.92</td>\n      <td>51.8</td>\n      <td>0.0</td>\n    </tr>\n    <tr>\n      <th>234</th>\n      <td>2020</td>\n      <td>2020-05-25</td>\n      <td>고산1동</td>\n      <td>2726067000</td>\n      <td>evening</td>\n      <td>월요일</td>\n      <td>42632.29</td>\n      <td>930746</td>\n      <td>0</td>\n      <td>16</td>\n      <td>23.76</td>\n      <td>47.6</td>\n      <td>0.0</td>\n    </tr>\n    <tr>\n      <th>235</th>\n      <td>2020</td>\n      <td>2020-05-26</td>\n      <td>고산1동</td>\n      <td>2726067000</td>\n      <td>evening</td>\n      <td>화요일</td>\n      <td>45390.80</td>\n      <td>994766</td>\n      <td>0</td>\n      <td>19</td>\n      <td>26.08</td>\n      <td>37.4</td>\n      <td>0.0</td>\n    </tr>\n    <tr>\n      <th>236</th>\n      <td>2020</td>\n      <td>2020-05-27</td>\n      <td>고산1동</td>\n      <td>2726067000</td>\n      <td>evening</td>\n      <td>수요일</td>\n      <td>39267.48</td>\n      <td>1003500</td>\n      <td>0</td>\n      <td>40</td>\n      <td>25.28</td>\n      <td>28.0</td>\n      <td>0.0</td>\n    </tr>\n    <tr>\n      <th>237</th>\n      <td>2020</td>\n      <td>2020-05-28</td>\n      <td>고산1동</td>\n      <td>2726067000</td>\n      <td>evening</td>\n      <td>목요일</td>\n      <td>44782.75</td>\n      <td>861754</td>\n      <td>0</td>\n      <td>79</td>\n      <td>24.66</td>\n      <td>36.4</td>\n      <td>0.0</td>\n    </tr>\n    <tr>\n      <th>238</th>\n      <td>2020</td>\n      <td>2020-05-29</td>\n      <td>고산1동</td>\n      <td>2726067000</td>\n      <td>evening</td>\n      <td>금요일</td>\n      <td>45447.02</td>\n      <td>986674</td>\n      <td>0</td>\n      <td>58</td>\n      <td>25.10</td>\n      <td>36.6</td>\n      <td>0.0</td>\n    </tr>\n    <tr>\n      <th>239</th>\n      <td>2020</td>\n      <td>2020-05-30</td>\n      <td>고산1동</td>\n      <td>2726067000</td>\n      <td>evening</td>\n      <td>토요일</td>\n      <td>42518.02</td>\n      <td>1210856</td>\n      <td>0</td>\n      <td>39</td>\n      <td>25.66</td>\n      <td>39.6</td>\n      <td>0.0</td>\n    </tr>\n    <tr>\n      <th>240</th>\n      <td>2020</td>\n      <td>2020-05-31</td>\n      <td>고산1동</td>\n      <td>2726067000</td>\n      <td>evening</td>\n      <td>일요일</td>\n      <td>41601.58</td>\n      <td>819518</td>\n      <td>0</td>\n      <td>27</td>\n      <td>25.94</td>\n      <td>48.4</td>\n      <td>0.0</td>\n    </tr>\n  </tbody>\n</table>\n</div>"
     },
     "metadata": {},
     "execution_count": 11
    }
   ],
   "source": [
    "data.iloc[-20:,:]"
   ]
  },
  {
   "cell_type": "code",
   "execution_count": null,
   "metadata": {},
   "outputs": [],
   "source": []
  }
 ]
}