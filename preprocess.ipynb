{
 "metadata": {
  "language_info": {
   "codemirror_mode": {
    "name": "ipython",
    "version": 3
   },
   "file_extension": ".py",
   "mimetype": "text/x-python",
   "name": "python",
   "nbconvert_exporter": "python",
   "pygments_lexer": "ipython3",
   "version": "3.8.5-final"
  },
  "orig_nbformat": 2,
  "kernelspec": {
   "name": "python_defaultSpec_1600233461591",
   "display_name": "Python 3.8.5 64-bit ('deep': conda)"
  }
 },
 "nbformat": 4,
 "nbformat_minor": 2,
 "cells": [
  {
   "cell_type": "code",
   "execution_count": 115,
   "metadata": {},
   "outputs": [],
   "source": [
    "import pandas as pd\n",
    "import numpy as np\n",
    "import random\n",
    "import gc"
   ]
  },
  {
   "cell_type": "code",
   "execution_count": 135,
   "metadata": {},
   "outputs": [
    {
     "output_type": "execute_result",
     "data": {
      "text/plain": "22405"
     },
     "metadata": {},
     "execution_count": 135
    }
   ],
   "source": [
    "# load data\n",
    "time_data = pd.read_csv('data/original/time_data.txt', sep  = ' ') \n",
    "nontime_data = pd.read_csv('data/original/nontime_data.txt', sep = ' ')\n",
    "\n",
    "# select features\n",
    "time_data = time_data[['flow_pop', 'HDONG_CD', 'time',\n",
    "                    'card_use', 'holiday', 'day_corona', 'ondo', 'subdo',\n",
    "                    'rain_snow', 'STD_YMD']]\n",
    "\n",
    "# change string time to int time\n",
    "time_data.time[time_data.time == 'morning'] = 0 # morning\n",
    "time_data.time[time_data.time == 'lunch'] = 1 # lunch\n",
    "time_data.time[time_data.time == 'evening'] = 2 # evening\n",
    "\n",
    "# to datetime\n",
    "time_data.STD_YMD = pd.to_datetime(time_data.STD_YMD)\n",
    "\n",
    "# make dayofyear weekday\n",
    "time_data['dayofyear'] = time_data.STD_YMD.dt.dayofyear\n",
    "time_data['weekday'] = time_data.STD_YMD.dt.weekday\n",
    "\n",
    "time_data['dayofyear_sin'] = np.sin(2 * np.pi * (time_data['dayofyear'])/365)\n",
    "time_data['dayofyear_cos'] = np.cos(2 * np.pi * (time_data['dayofyear'])/365)\n",
    "time_data['weekday_sin'] = np.sin(2 * np.pi * (time_data['weekday'])/7)# 월화수목금토일\n",
    "time_data['weekday_cos'] = np.cos(2 * np.pi * (time_data['weekday'])/7)\n",
    "\n",
    "# reselect features\n",
    "time_data = time_data[['flow_pop', 'HDONG_CD', 'time',\n",
    "                    'card_use', 'holiday', 'day_corona', 'ondo', 'subdo',\n",
    "                    'rain_snow', 'dayofyear_sin', 'dayofyear_cos', 'weekday_sin', 'weekday_cos']]\n",
    "\n",
    "# set constant\n",
    "LOC_SIZE = 69\n",
    "TIME_SIZE = 3\n",
    "DATE_SIZE = 241\n",
    "FEATURE_SIZE = 13\n",
    "\n",
    "# table -> matrix\n",
    "time_data = np.array(time_data).reshape(LOC_SIZE, TIME_SIZE, DATE_SIZE, FEATURE_SIZE)# 지역, 시간, 날짜, features\n",
    "\n",
    "\n",
    "# flow_tot -> flow_trend + flow_cycle 분리\n",
    "def split_trend_cycle(flow_pop):\n",
    "    flow_pop = flow_pop.reshape(LOC_SIZE, TIME_SIZE, DATE_SIZE, 1)\n",
    "    trend = flow_pop\n",
    "    cycle = flow_pop\n",
    "    return np.concatenate([trend, cycle], axis = 3)\n",
    "\n",
    "time_data_new = np.empty([LOC_SIZE, TIME_SIZE, DATE_SIZE, FEATURE_SIZE + 2])\n",
    "time_data_new[:,:,:,:-2] = time_data\n",
    "# tren, cycle 순서로 resturn\n",
    "time_data_new[:,:,:,-2:] = split_trend_cycle(time_data[:,:,:,0])# flow_pop의 index는 0\n",
    "\n",
    "time_data = time_data_new\n",
    "del time_data_new\n",
    "gc.collect()"
   ]
  },
  {
   "cell_type": "code",
   "execution_count": 136,
   "metadata": {},
   "outputs": [
    {
     "output_type": "execute_result",
     "data": {
      "text/plain": "(69, 3, 241, 15)"
     },
     "metadata": {},
     "execution_count": 136
    }
   ],
   "source": [
    "time_data.shape"
   ]
  },
  {
   "cell_type": "code",
   "execution_count": 151,
   "metadata": {
    "tags": []
   },
   "outputs": [
    {
     "output_type": "stream",
     "name": "stdout",
     "text": "train_time : (55, 3, 201, 15)\nvalid_time_1 : (55, 3, 40, 15)\nvalid_time_2 : (7, 3, 221, 15)\ntest_time_1  : (62, 3, 40, 15)\ntest_time_2  : (7, 3, 241, 15)\n"
    }
   ],
   "source": [
    "# make_random \n",
    "loc_index = [i for i in range(69)]\n",
    "random.seed(1015)\n",
    "random.shuffle(loc_index)\n",
    "\n",
    "#set window size\n",
    "WINDOW_SIZE = 20\n",
    "\n",
    "#\n",
    "train_time = time_data[loc_index[ :55], : , :201, :]\n",
    "\n",
    "valid_time_1 = time_data[loc_index[ :55], :, 201 -WINDOW_SIZE : -20, :] # train 지역& valid 기간\n",
    "valid_time_2 = time_data[loc_index[55:62], :, : -20, :] # valid 지역 & (train + valid) 기간\n",
    "\n",
    "test_time_1 = time_data[loc_index[:62], :, 221 -WINDOW_SIZE : , :] # train,valid 지역& test 기간\n",
    "test_time_2 = time_data[loc_index[62:], :, :, :] # test 지역 & (train + valid + test) 기간\n",
    "\n",
    "print('\\n'.join([f'train_time : {train_time.shape}',\n",
    "                f'valid_time_1 : {valid_time_1.shape}',\n",
    "                f'valid_time_2 : {valid_time_2.shape}',\n",
    "                f'test_time_1  : {test_time_1.shape}',\n",
    "                f'test_time_2  : {test_time_2.shape}']      ))"
   ]
  },
  {
   "cell_type": "code",
   "execution_count": 152,
   "metadata": {
    "tags": []
   },
   "outputs": [
    {
     "output_type": "execute_result",
     "data": {
      "text/plain": "     flow_pop      HDONG_CD time   card_use holiday day_corona   ondo subdo  \\\n0    43561.37  2.726067e+09  2.0  1135084.0     0.0        0.0   2.84  39.8   \n1    42651.66  2.726067e+09  2.0  1339086.0     0.0        0.0   6.96  37.4   \n2    38005.95  2.726067e+09  2.0  1127973.0     0.0        0.0   6.70  93.8   \n3    34415.38  2.726067e+09  2.0   941383.0     1.0        0.0   5.96  17.4   \n4    39604.13  2.726067e+09  2.0   423065.0     1.0        0.0   8.70  21.4   \n..        ...           ...  ...        ...     ...        ...    ...   ...   \n236  39267.48  2.726067e+09  2.0  1003500.0     0.0       40.0  25.28  28.0   \n237  44782.75  2.726067e+09  2.0   861754.0     0.0       79.0  24.66  36.4   \n238  45447.02  2.726067e+09  2.0   986674.0     0.0       58.0  25.10  36.6   \n239  42518.02  2.726067e+09  2.0  1210856.0     0.0       39.0  25.66  39.6   \n240  41601.58  2.726067e+09  2.0   819518.0     0.0       27.0  25.94  48.4   \n\n    rain_snow dayofyear_sin dayofyear_cos weekday_sin weekday_cos flow_trend  \\\n0         0.0      0.523416      0.852078   -0.433884   -0.900969   43561.37   \n1         0.0      0.538005      0.842942   -0.974928   -0.222521   42651.66   \n2         0.0      0.552435      0.833556   -0.781831    0.623490   38005.95   \n3         0.0      0.566702      0.823923    0.000000    1.000000   34415.38   \n4         0.0      0.580800      0.814046    0.781831    0.623490   39604.13   \n..        ...           ...           ...         ...         ...        ...   \n236       0.0      0.559589     -0.828770    0.974928   -0.222521   39267.48   \n237       0.0      0.545240     -0.838280    0.433884   -0.900969   44782.75   \n238       0.0      0.530730     -0.847541   -0.433884   -0.900969   45447.02   \n239       0.0      0.516062     -0.856551   -0.974928   -0.222521   42518.02   \n240       0.0      0.501242     -0.865307   -0.781831    0.623490   41601.58   \n\n    flow_cycle  \n0     43561.37  \n1     42651.66  \n2     38005.95  \n3     34415.38  \n4     39604.13  \n..         ...  \n236   39267.48  \n237   44782.75  \n238   45447.02  \n239   42518.02  \n240   41601.58  \n\n[241 rows x 15 columns]",
      "text/html": "<div>\n<style scoped>\n    .dataframe tbody tr th:only-of-type {\n        vertical-align: middle;\n    }\n\n    .dataframe tbody tr th {\n        vertical-align: top;\n    }\n\n    .dataframe thead tr th {\n        text-align: left;\n    }\n</style>\n<table border=\"1\" class=\"dataframe\">\n  <thead>\n    <tr>\n      <th></th>\n      <th>flow_pop</th>\n      <th>HDONG_CD</th>\n      <th>time</th>\n      <th>card_use</th>\n      <th>holiday</th>\n      <th>day_corona</th>\n      <th>ondo</th>\n      <th>subdo</th>\n      <th>rain_snow</th>\n      <th>dayofyear_sin</th>\n      <th>dayofyear_cos</th>\n      <th>weekday_sin</th>\n      <th>weekday_cos</th>\n      <th>flow_trend</th>\n      <th>flow_cycle</th>\n    </tr>\n  </thead>\n  <tbody>\n    <tr>\n      <th>0</th>\n      <td>43561.37</td>\n      <td>2.726067e+09</td>\n      <td>2.0</td>\n      <td>1135084.0</td>\n      <td>0.0</td>\n      <td>0.0</td>\n      <td>2.84</td>\n      <td>39.8</td>\n      <td>0.0</td>\n      <td>0.523416</td>\n      <td>0.852078</td>\n      <td>-0.433884</td>\n      <td>-0.900969</td>\n      <td>43561.37</td>\n      <td>43561.37</td>\n    </tr>\n    <tr>\n      <th>1</th>\n      <td>42651.66</td>\n      <td>2.726067e+09</td>\n      <td>2.0</td>\n      <td>1339086.0</td>\n      <td>0.0</td>\n      <td>0.0</td>\n      <td>6.96</td>\n      <td>37.4</td>\n      <td>0.0</td>\n      <td>0.538005</td>\n      <td>0.842942</td>\n      <td>-0.974928</td>\n      <td>-0.222521</td>\n      <td>42651.66</td>\n      <td>42651.66</td>\n    </tr>\n    <tr>\n      <th>2</th>\n      <td>38005.95</td>\n      <td>2.726067e+09</td>\n      <td>2.0</td>\n      <td>1127973.0</td>\n      <td>0.0</td>\n      <td>0.0</td>\n      <td>6.70</td>\n      <td>93.8</td>\n      <td>0.0</td>\n      <td>0.552435</td>\n      <td>0.833556</td>\n      <td>-0.781831</td>\n      <td>0.623490</td>\n      <td>38005.95</td>\n      <td>38005.95</td>\n    </tr>\n    <tr>\n      <th>3</th>\n      <td>34415.38</td>\n      <td>2.726067e+09</td>\n      <td>2.0</td>\n      <td>941383.0</td>\n      <td>1.0</td>\n      <td>0.0</td>\n      <td>5.96</td>\n      <td>17.4</td>\n      <td>0.0</td>\n      <td>0.566702</td>\n      <td>0.823923</td>\n      <td>0.000000</td>\n      <td>1.000000</td>\n      <td>34415.38</td>\n      <td>34415.38</td>\n    </tr>\n    <tr>\n      <th>4</th>\n      <td>39604.13</td>\n      <td>2.726067e+09</td>\n      <td>2.0</td>\n      <td>423065.0</td>\n      <td>1.0</td>\n      <td>0.0</td>\n      <td>8.70</td>\n      <td>21.4</td>\n      <td>0.0</td>\n      <td>0.580800</td>\n      <td>0.814046</td>\n      <td>0.781831</td>\n      <td>0.623490</td>\n      <td>39604.13</td>\n      <td>39604.13</td>\n    </tr>\n    <tr>\n      <th>...</th>\n      <td>...</td>\n      <td>...</td>\n      <td>...</td>\n      <td>...</td>\n      <td>...</td>\n      <td>...</td>\n      <td>...</td>\n      <td>...</td>\n      <td>...</td>\n      <td>...</td>\n      <td>...</td>\n      <td>...</td>\n      <td>...</td>\n      <td>...</td>\n      <td>...</td>\n    </tr>\n    <tr>\n      <th>236</th>\n      <td>39267.48</td>\n      <td>2.726067e+09</td>\n      <td>2.0</td>\n      <td>1003500.0</td>\n      <td>0.0</td>\n      <td>40.0</td>\n      <td>25.28</td>\n      <td>28.0</td>\n      <td>0.0</td>\n      <td>0.559589</td>\n      <td>-0.828770</td>\n      <td>0.974928</td>\n      <td>-0.222521</td>\n      <td>39267.48</td>\n      <td>39267.48</td>\n    </tr>\n    <tr>\n      <th>237</th>\n      <td>44782.75</td>\n      <td>2.726067e+09</td>\n      <td>2.0</td>\n      <td>861754.0</td>\n      <td>0.0</td>\n      <td>79.0</td>\n      <td>24.66</td>\n      <td>36.4</td>\n      <td>0.0</td>\n      <td>0.545240</td>\n      <td>-0.838280</td>\n      <td>0.433884</td>\n      <td>-0.900969</td>\n      <td>44782.75</td>\n      <td>44782.75</td>\n    </tr>\n    <tr>\n      <th>238</th>\n      <td>45447.02</td>\n      <td>2.726067e+09</td>\n      <td>2.0</td>\n      <td>986674.0</td>\n      <td>0.0</td>\n      <td>58.0</td>\n      <td>25.10</td>\n      <td>36.6</td>\n      <td>0.0</td>\n      <td>0.530730</td>\n      <td>-0.847541</td>\n      <td>-0.433884</td>\n      <td>-0.900969</td>\n      <td>45447.02</td>\n      <td>45447.02</td>\n    </tr>\n    <tr>\n      <th>239</th>\n      <td>42518.02</td>\n      <td>2.726067e+09</td>\n      <td>2.0</td>\n      <td>1210856.0</td>\n      <td>0.0</td>\n      <td>39.0</td>\n      <td>25.66</td>\n      <td>39.6</td>\n      <td>0.0</td>\n      <td>0.516062</td>\n      <td>-0.856551</td>\n      <td>-0.974928</td>\n      <td>-0.222521</td>\n      <td>42518.02</td>\n      <td>42518.02</td>\n    </tr>\n    <tr>\n      <th>240</th>\n      <td>41601.58</td>\n      <td>2.726067e+09</td>\n      <td>2.0</td>\n      <td>819518.0</td>\n      <td>0.0</td>\n      <td>27.0</td>\n      <td>25.94</td>\n      <td>48.4</td>\n      <td>0.0</td>\n      <td>0.501242</td>\n      <td>-0.865307</td>\n      <td>-0.781831</td>\n      <td>0.623490</td>\n      <td>41601.58</td>\n      <td>41601.58</td>\n    </tr>\n  </tbody>\n</table>\n<p>241 rows × 15 columns</p>\n</div>"
     },
     "metadata": {},
     "execution_count": 152
    }
   ],
   "source": [
    "pd.DataFrame(time_data[0,0,:,:],\n",
    "columns = [['flow_pop', 'HDONG_CD', 'time',\n",
    "                    'card_use', 'holiday', 'day_corona', 'ondo', 'subdo',\n",
    "                    'rain_snow', 'dayofyear_sin', 'dayofyear_cos', 'weekday_sin', 'weekday_cos','flow_trend', 'flow_cycle']])"
   ]
  },
  {
   "cell_type": "code",
   "execution_count": null,
   "metadata": {},
   "outputs": [],
   "source": []
  }
 ]
}