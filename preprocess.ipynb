{
 "metadata": {
  "language_info": {
   "codemirror_mode": {
    "name": "ipython",
    "version": 3
   },
   "file_extension": ".py",
   "mimetype": "text/x-python",
   "name": "python",
   "nbconvert_exporter": "python",
   "pygments_lexer": "ipython3",
   "version": "3.8.5-final"
  },
  "orig_nbformat": 2,
  "kernelspec": {
   "name": "python_defaultSpec_1600251819406",
   "display_name": "Python 3.8.5 64-bit ('deep': conda)"
  }
 },
 "nbformat": 4,
 "nbformat_minor": 2,
 "cells": [
  {
   "cell_type": "code",
   "execution_count": 3,
   "metadata": {},
   "outputs": [],
   "source": [
    "import pandas as pd\n",
    "import numpy as np\n",
    "import random\n",
    "from sklearn.preprocessing import StandardScaler\n",
    "import gc"
   ]
  },
  {
   "cell_type": "code",
   "execution_count": 195,
   "metadata": {},
   "outputs": [],
   "source": [
    "# set constant\n",
    "LOC_SIZE = 69\n",
    "TIME_SIZE = 3\n",
    "DATE_SIZE = 241\n",
    "FEATURE_SIZE = 13\n",
    "#set window size\n",
    "INPUT_WINDOW = 20\n",
    "OUTPUT_WINDOW = 7\n",
    "\n",
    "\n",
    "# flow_tot -> flow_trend + flow_cycle 분리\n",
    "def split_trend_cycle(flow_pop):\n",
    "    flow_pop = flow_pop.reshape(LOC_SIZE, DATE_SIZE, 1)\n",
    "    trend = flow_pop\n",
    "    cycle = flow_pop\n",
    "    return np.concatenate([trend, cycle], axis = 2)\n",
    "\n",
    "def df2npy(time_data):\n",
    "    # make loc_list(dong code)\n",
    "    loc_list = list(time_data.HDONG_CD.unique())\n",
    "\n",
    "\n",
    "    # select features\n",
    "    time_data = time_data[['flow_pop', 'HDONG_CD', 'time',\n",
    "                        'card_use', 'holiday', 'day_corona', 'ondo', 'subdo',\n",
    "                        'rain_snow', 'STD_YMD']]\n",
    "\n",
    "    # change string time to int time\n",
    "    time_data.time[time_data.time == 'morning'] = 0 # morning\n",
    "    time_data.time[time_data.time == 'lunch'] = 1 # lunch\n",
    "    time_data.time[time_data.time == 'evening'] = 2 # evening\n",
    "\n",
    "    # to datetime\n",
    "    time_data.STD_YMD = pd.to_datetime(time_data.STD_YMD)\n",
    "\n",
    "    # make dayofyear weekday\n",
    "    time_data['dayofyear'] = time_data.STD_YMD.dt.dayofyear\n",
    "    time_data['weekday'] = time_data.STD_YMD.dt.weekday\n",
    "    time_data['dayofyear_sin'] = np.sin(2 * np.pi * (time_data['dayofyear'])/365)\n",
    "    time_data['dayofyear_cos'] = np.cos(2 * np.pi * (time_data['dayofyear'])/365)\n",
    "    time_data['weekday_sin'] = np.sin(2 * np.pi * (time_data['weekday'])/7)# 월화수목금토일\n",
    "    time_data['weekday_cos'] = np.cos(2 * np.pi * (time_data['weekday'])/7)\n",
    "\n",
    "    # reselect features\n",
    "    time_data = time_data[['HDONG_CD', 'time','flow_pop',\n",
    "                        'card_use', 'holiday', 'day_corona', 'ondo', 'subdo',\n",
    "                        'rain_snow', 'dayofyear_sin', 'dayofyear_cos', 'weekday_sin', 'weekday_cos']]\n",
    "\n",
    "    # table -> matrix\n",
    "    time_data = np.array(time_data).reshape(LOC_SIZE, TIME_SIZE, DATE_SIZE, FEATURE_SIZE)# 지역, 시간, 날짜, features\n",
    "    return time_data\n",
    "\n",
    "def append_trend_cycle(time_data):\n",
    "    time_data_new = np.empty([LOC_SIZE, DATE_SIZE, FEATURE_SIZE + 2])\n",
    "    time_data_new[:,:,:-2] = time_data\n",
    "    # trend, cycle 순서로 return\n",
    "    time_data_new[:,:,-2:] = split_trend_cycle(time_data[:,:,2])# flow_pop의 index는 2\n",
    "    time_data = time_data_new\n",
    "    return time_data\n",
    "\n",
    "def scaleing_time(data, scaler = None):\n",
    "    shape = data.shape\n",
    "    data = data.reshape(-1, shape[-1])\n",
    "    if scaler == None:\n",
    "        scaler = StandardScaler()\n",
    "        scaler.fit(data)\n",
    "    scaled_data = scaler.transform(data)\n",
    "    return scaler, scaled_data.reshape(shape)\n",
    "\n",
    "def scaleing_no_time(data, scaler = None):\n",
    "    df_index = data.index\n",
    "    df_columns = data.columns\n",
    "    if scaler == None:\n",
    "        scaler = StandardScaler()\n",
    "        scaler.fit(data.values.reshape(-1,data.shape[-1]))\n",
    "    data = scaler.transform(data.values.reshape(-1,data.shape[-1]))\n",
    "    data = pd.DataFrame(data, index = df_index, columns = df_columns)\n",
    "    return scaler, data\n",
    "\n",
    "def split_train_valid_test(time_data):\n",
    "    # make_random \n",
    "    loc_index = [i for i in range(69)]\n",
    "    random.seed(1015)\n",
    "    random.shuffle(loc_index)\n",
    "\n",
    "    # split time data\n",
    "    train_time = time_data[loc_index[ :55], :201, :]\n",
    "    valid_time_1 = time_data[loc_index[ :55], 201 -INPUT_WINDOW : -20, :] # train 지역& valid 기간\n",
    "    valid_time_2 = time_data[loc_index[55:62], : -20, :] # valid 지역 & (train + valid) 기간\n",
    "    test_time_1 = time_data[loc_index[:62], 221 -INPUT_WINDOW : , :] # train,valid 지역& test 기간\n",
    "    test_time_2 = time_data[loc_index[62:], :, :] # test 지역 & (train + valid + test) 기간\n",
    "\n",
    "    # set loc index\n",
    "    train_loc_index = list(set(train_time[:,0,0].astype(np.int64)))\n",
    "    valid_loc_index = list(set(valid_time_2[:,0,0].astype(np.int64)))\n",
    "    test_loc_index = list(set(test_time_2[:,0,0].astype(np.int64)))\n",
    "\n",
    "    #scaling - time # 지역별 스케일링\n",
    "    time_scaler, train_time[:,:,2:] = scaleing_time(train_time[:,:,2:])\n",
    "    _, valid_time_1[:,:,2:] = scaleing_time(valid_time_1[:,:,2:], time_scaler)\n",
    "    _, valid_time_2[:,:,2:] = scaleing_time(valid_time_2[:,:,2:], time_scaler)\n",
    "    _, test_time_1[:,:,2:] = scaleing_time(test_time_1[:,:,2:], time_scaler)\n",
    "    _, test_time_2[:,:,2:] = scaleing_time(test_time_2[:,:,2:], time_scaler)\n",
    "\n",
    "    train_valid_test = [train_time, valid_time_1, valid_time_2, test_time_1, test_time_2]\n",
    "    train_valid_test_index = [train_loc_index, valid_loc_index, test_loc_index]\n",
    "\n",
    "    return train_valid_test, train_valid_test_index\n",
    "\n",
    "def split_notime_data(nontime_data, train_valid_test_index):\n",
    "    train_loc_index, valid_loc_index, test_loc_index= train_valid_test_index\n",
    "    # make no time data\n",
    "    nontime_data = nontime_data[['HDONG_CD', 'time', 'tot_pop', 'age_80U', 'AREA']]\n",
    "    nontime_data = nontime_data.groupby(['HDONG_CD','time']).sum()\n",
    "\n",
    "    # split no time data\n",
    "    train_no_time = nontime_data.loc[train_loc_index]\n",
    "    valid_no_time = nontime_data.loc[valid_loc_index]\n",
    "    test_no_time = nontime_data.loc[test_loc_index]\n",
    "\n",
    "    # scaleing no time data*\n",
    "    no_time_scaler, train_no_time = scaleing_no_time(train_no_time)\n",
    "    _,              valid_no_time = scaleing_no_time(valid_no_time)\n",
    "    _,              test_no_time  = scaleing_no_time(test_no_time)\n",
    "\n",
    "    notime = [train_no_time, valid_no_time, test_no_time]\n",
    "    return no_time_scaler, notime"
   ]
  },
  {
   "cell_type": "code",
   "execution_count": 197,
   "metadata": {
    "tags": []
   },
   "outputs": [],
   "source": [
    "# load data\n",
    "time_data = pd.read_csv('data/original/time_data.txt', sep  = ' ') \n",
    "time_data = df2npy(time_data)\n",
    "\n",
    "# 아침 점심 저녁 분리\n",
    "morning_data = time_data[:,2,:,:]\n",
    "lunch_data = time_data[:,1,:,:]\n",
    "evening_data = time_data[:,0,:,:]\n",
    "\n",
    "# tend, cycle 추가\n",
    "morning_data = append_trend_cycle(morning_data)\n",
    "lunch_data = append_trend_cycle(lunch_data)\n",
    "evening_data = append_trend_cycle(evening_data)\n",
    "\n",
    "\n",
    "# train_validation_test split  & scaling\n",
    "morning_data, train_valid_test_loc_index = split_train_valid_test(morning_data,)\n",
    "morning_data, _ = split_train_valid_test(morning_data)\n",
    "morning_data, _ = split_train_valid_test(morning_data)\n",
    "\n",
    "nontime_data = pd.read_csv('data/original/nontime_data.txt', sep = ' ')\n",
    "no_time_scaler, notime = split_notime_data(nontime_data)\n",
    "\n"
   ]
  },
  {
   "cell_type": "code",
   "execution_count": 70,
   "metadata": {},
   "outputs": [
    {
     "output_type": "execute_result",
     "data": {
      "text/plain": "(55, 201, 15)"
     },
     "metadata": {},
     "execution_count": 70
    }
   ],
   "source": [
    "train_time_evening, train_time_evening,  = train_time[:,0,:,:].reshape(-1, 15) # evening\n",
    "train_time_lunch = train_time[:,1,:,:].reshape(-1, 15) # lunch\n",
    "train_time_morning = train_time[:,2,:,:].reshape(-1, 15) # morning"
   ]
  },
  {
   "cell_type": "code",
   "execution_count": null,
   "metadata": {},
   "outputs": [],
   "source": []
  },
  {
   "cell_type": "code",
   "execution_count": 61,
   "metadata": {},
   "outputs": [
    {
     "output_type": "execute_result",
     "data": {
      "text/plain": "                  0    1         2         3         4         5         6  \\\n0      1.114065e+09  2.0 -0.432789 -0.484521 -0.228814 -0.410405 -1.318818   \n1      1.114065e+09  2.0 -0.632178 -0.524583 -0.228814 -0.410405 -0.862892   \n2      1.114065e+09  2.0 -0.772432 -0.633989 -0.228814 -0.410405 -0.921208   \n3      1.114065e+09  2.0 -0.776940 -0.675009  4.370355 -0.410405 -1.355928   \n4      1.114065e+09  2.0 -0.700818 -0.720382  4.370355 -0.410405 -0.494440   \n...             ...  ...       ...       ...       ...       ...       ...   \n11050  1.135070e+09  2.0 -0.173808 -0.667451 -0.228814 -0.240272  0.279574   \n11051  1.135070e+09  2.0 -0.175710 -0.655189 -0.228814 -0.271205  0.743453   \n11052  1.135070e+09  2.0 -0.307042 -0.707934 -0.228814 -0.348538  0.094023   \n11053  1.135070e+09  2.0 -0.169877 -0.650937 -0.228814 -0.309872  0.019803   \n11054  1.135070e+09  2.0 -0.173927 -0.654437 -0.228814 -0.340805 -0.481186   \n\n              7         8         9        10        11        12        13  \\\n0      0.680222  0.012310 -2.216370  1.476984 -0.604139 -1.281223 -1.070237   \n1      0.274338 -0.198547 -2.116541  1.458587 -1.369857 -0.322384 -1.070237   \n2      2.350954  0.328596 -2.017802  1.439687 -1.096576  0.873268 -1.070237   \n3     -0.679017 -0.198547 -1.920184  1.420290  0.009920  1.405383 -1.070237   \n4     -1.103780 -0.198547 -1.823714  1.400400  1.116415  0.873268 -1.070237   \n...         ...       ...       ...       ...       ...       ...       ...   \n11050  1.709091 -0.198547  0.762196 -0.811451 -0.604139 -1.281223 -1.043887   \n11051  0.434804 -0.198547  0.727732 -0.844598 -1.369857 -0.322384 -1.043887   \n11052  1.784604  4.967453  0.691334 -0.877565 -1.096576  0.873268 -1.043887   \n11053  0.991714 -0.198547  0.653013 -0.910343  0.009920  1.405383 -1.043887   \n11054 -0.622383 -0.198547  0.612780 -0.942922  1.116415  0.873268 -1.043887   \n\n             14  \n0     -1.070237  \n1     -1.070237  \n2     -1.070237  \n3     -1.070237  \n4     -1.070237  \n...         ...  \n11050 -1.043887  \n11051 -1.043887  \n11052 -1.043887  \n11053 -1.043887  \n11054 -1.043887  \n\n[11055 rows x 15 columns]",
      "text/html": "<div>\n<style scoped>\n    .dataframe tbody tr th:only-of-type {\n        vertical-align: middle;\n    }\n\n    .dataframe tbody tr th {\n        vertical-align: top;\n    }\n\n    .dataframe thead th {\n        text-align: right;\n    }\n</style>\n<table border=\"1\" class=\"dataframe\">\n  <thead>\n    <tr style=\"text-align: right;\">\n      <th></th>\n      <th>0</th>\n      <th>1</th>\n      <th>2</th>\n      <th>3</th>\n      <th>4</th>\n      <th>5</th>\n      <th>6</th>\n      <th>7</th>\n      <th>8</th>\n      <th>9</th>\n      <th>10</th>\n      <th>11</th>\n      <th>12</th>\n      <th>13</th>\n      <th>14</th>\n    </tr>\n  </thead>\n  <tbody>\n    <tr>\n      <th>0</th>\n      <td>1.114065e+09</td>\n      <td>2.0</td>\n      <td>-0.432789</td>\n      <td>-0.484521</td>\n      <td>-0.228814</td>\n      <td>-0.410405</td>\n      <td>-1.318818</td>\n      <td>0.680222</td>\n      <td>0.012310</td>\n      <td>-2.216370</td>\n      <td>1.476984</td>\n      <td>-0.604139</td>\n      <td>-1.281223</td>\n      <td>-1.070237</td>\n      <td>-1.070237</td>\n    </tr>\n    <tr>\n      <th>1</th>\n      <td>1.114065e+09</td>\n      <td>2.0</td>\n      <td>-0.632178</td>\n      <td>-0.524583</td>\n      <td>-0.228814</td>\n      <td>-0.410405</td>\n      <td>-0.862892</td>\n      <td>0.274338</td>\n      <td>-0.198547</td>\n      <td>-2.116541</td>\n      <td>1.458587</td>\n      <td>-1.369857</td>\n      <td>-0.322384</td>\n      <td>-1.070237</td>\n      <td>-1.070237</td>\n    </tr>\n    <tr>\n      <th>2</th>\n      <td>1.114065e+09</td>\n      <td>2.0</td>\n      <td>-0.772432</td>\n      <td>-0.633989</td>\n      <td>-0.228814</td>\n      <td>-0.410405</td>\n      <td>-0.921208</td>\n      <td>2.350954</td>\n      <td>0.328596</td>\n      <td>-2.017802</td>\n      <td>1.439687</td>\n      <td>-1.096576</td>\n      <td>0.873268</td>\n      <td>-1.070237</td>\n      <td>-1.070237</td>\n    </tr>\n    <tr>\n      <th>3</th>\n      <td>1.114065e+09</td>\n      <td>2.0</td>\n      <td>-0.776940</td>\n      <td>-0.675009</td>\n      <td>4.370355</td>\n      <td>-0.410405</td>\n      <td>-1.355928</td>\n      <td>-0.679017</td>\n      <td>-0.198547</td>\n      <td>-1.920184</td>\n      <td>1.420290</td>\n      <td>0.009920</td>\n      <td>1.405383</td>\n      <td>-1.070237</td>\n      <td>-1.070237</td>\n    </tr>\n    <tr>\n      <th>4</th>\n      <td>1.114065e+09</td>\n      <td>2.0</td>\n      <td>-0.700818</td>\n      <td>-0.720382</td>\n      <td>4.370355</td>\n      <td>-0.410405</td>\n      <td>-0.494440</td>\n      <td>-1.103780</td>\n      <td>-0.198547</td>\n      <td>-1.823714</td>\n      <td>1.400400</td>\n      <td>1.116415</td>\n      <td>0.873268</td>\n      <td>-1.070237</td>\n      <td>-1.070237</td>\n    </tr>\n    <tr>\n      <th>...</th>\n      <td>...</td>\n      <td>...</td>\n      <td>...</td>\n      <td>...</td>\n      <td>...</td>\n      <td>...</td>\n      <td>...</td>\n      <td>...</td>\n      <td>...</td>\n      <td>...</td>\n      <td>...</td>\n      <td>...</td>\n      <td>...</td>\n      <td>...</td>\n      <td>...</td>\n    </tr>\n    <tr>\n      <th>11050</th>\n      <td>1.135070e+09</td>\n      <td>2.0</td>\n      <td>-0.173808</td>\n      <td>-0.667451</td>\n      <td>-0.228814</td>\n      <td>-0.240272</td>\n      <td>0.279574</td>\n      <td>1.709091</td>\n      <td>-0.198547</td>\n      <td>0.762196</td>\n      <td>-0.811451</td>\n      <td>-0.604139</td>\n      <td>-1.281223</td>\n      <td>-1.043887</td>\n      <td>-1.043887</td>\n    </tr>\n    <tr>\n      <th>11051</th>\n      <td>1.135070e+09</td>\n      <td>2.0</td>\n      <td>-0.175710</td>\n      <td>-0.655189</td>\n      <td>-0.228814</td>\n      <td>-0.271205</td>\n      <td>0.743453</td>\n      <td>0.434804</td>\n      <td>-0.198547</td>\n      <td>0.727732</td>\n      <td>-0.844598</td>\n      <td>-1.369857</td>\n      <td>-0.322384</td>\n      <td>-1.043887</td>\n      <td>-1.043887</td>\n    </tr>\n    <tr>\n      <th>11052</th>\n      <td>1.135070e+09</td>\n      <td>2.0</td>\n      <td>-0.307042</td>\n      <td>-0.707934</td>\n      <td>-0.228814</td>\n      <td>-0.348538</td>\n      <td>0.094023</td>\n      <td>1.784604</td>\n      <td>4.967453</td>\n      <td>0.691334</td>\n      <td>-0.877565</td>\n      <td>-1.096576</td>\n      <td>0.873268</td>\n      <td>-1.043887</td>\n      <td>-1.043887</td>\n    </tr>\n    <tr>\n      <th>11053</th>\n      <td>1.135070e+09</td>\n      <td>2.0</td>\n      <td>-0.169877</td>\n      <td>-0.650937</td>\n      <td>-0.228814</td>\n      <td>-0.309872</td>\n      <td>0.019803</td>\n      <td>0.991714</td>\n      <td>-0.198547</td>\n      <td>0.653013</td>\n      <td>-0.910343</td>\n      <td>0.009920</td>\n      <td>1.405383</td>\n      <td>-1.043887</td>\n      <td>-1.043887</td>\n    </tr>\n    <tr>\n      <th>11054</th>\n      <td>1.135070e+09</td>\n      <td>2.0</td>\n      <td>-0.173927</td>\n      <td>-0.654437</td>\n      <td>-0.228814</td>\n      <td>-0.340805</td>\n      <td>-0.481186</td>\n      <td>-0.622383</td>\n      <td>-0.198547</td>\n      <td>0.612780</td>\n      <td>-0.942922</td>\n      <td>1.116415</td>\n      <td>0.873268</td>\n      <td>-1.043887</td>\n      <td>-1.043887</td>\n    </tr>\n  </tbody>\n</table>\n<p>11055 rows × 15 columns</p>\n</div>"
     },
     "metadata": {},
     "execution_count": 61
    }
   ],
   "source": [
    "pd.DataFrame(train_time.reshape(3, -1, 15)[0,:,:])"
   ]
  },
  {
   "cell_type": "code",
   "execution_count": 163,
   "metadata": {},
   "outputs": [],
   "source": [
    "def split_sequence(sequence, input_window = 20, output_window = 7, target_index  = 2):\n",
    "    x, y = list(), list()\n",
    "    #print(sequence.shape)\n",
    "    for day in range(sequence.shape[0]):\n",
    "        end_ix = day + input_window\n",
    "        if end_ix > (len(sequence)- output_window) -1:#\n",
    "            break\n",
    "        seq_x, seq_y = sequence[day:end_ix, :], sequence[end_ix:end_ix+output_window, 2]\n",
    "        x.append(seq_x)\n",
    "        y.append(seq_y)\n",
    "    return np.array(x), np.array(y)\n",
    "\n",
    "def make_sequence_data(time_data, no_time_data, input_window = 20, out_window = 7):\n",
    "    x_time_batch, x_notime_batch, y_batch = list(), list(), list()\n",
    "    \n",
    "    for time_idx, time in enumerate(['evening', 'lunch', 'morning']):\n",
    "        x_time = []\n",
    "        x_notime = []\n",
    "        y_time = []\n",
    "\n",
    "        for loc in range(time_data.shape[0]):\n",
    "            loc_code = time_data[loc,0,0,0]\n",
    "            #print(time_data[loc_code,time_idx,0,0])\n",
    "            x, y = split_sequence(time_data[loc,time_idx,:,:], input_window, out_window)\n",
    "            notime = no_time_data.loc[loc_code, time]\n",
    "            #print(no_time_data.loc[loc_code, time].shape)\n",
    "            print(x.shape)\n",
    "            break\n",
    "            x_time.append(x)\n",
    "            x_notime.append(notime)\n",
    "            y_time.append(y)\n",
    "        \n",
    "        x_time = np.stack(np.concatenate(x_time))\n",
    "        x_notime = np.stack(x_notime)\n",
    "        y_time = np.stack(np.concatenate(y_time))\n",
    "\n",
    "        x_time_batch.append(x_time)\n",
    "        x_notime_batch.append(x_notime)\n",
    "        y_batch.append(y_time)\n",
    "\n",
    "    return x_time_batch, x_notime_batch, y_batch"
   ]
  },
  {
   "cell_type": "code",
   "execution_count": 164,
   "metadata": {
    "tags": []
   },
   "outputs": [
    {
     "output_type": "stream",
     "name": "stdout",
     "text": "(174, 20, 15)\n"
    },
    {
     "output_type": "error",
     "ename": "ValueError",
     "evalue": "need at least one array to concatenate",
     "traceback": [
      "\u001b[1;31m---------------------------------------------------------------------------\u001b[0m",
      "\u001b[1;31mValueError\u001b[0m                                Traceback (most recent call last)",
      "\u001b[1;32m<ipython-input-164-79139ba425bb>\u001b[0m in \u001b[0;36m<module>\u001b[1;34m\u001b[0m\n\u001b[1;32m----> 1\u001b[1;33m \u001b[0mx_time_train\u001b[0m\u001b[1;33m,\u001b[0m \u001b[0mx_notime_train\u001b[0m\u001b[1;33m,\u001b[0m \u001b[0my_train\u001b[0m \u001b[1;33m=\u001b[0m \u001b[0mmake_sequence_data\u001b[0m\u001b[1;33m(\u001b[0m\u001b[0mtrain_time\u001b[0m\u001b[1;33m,\u001b[0m \u001b[0mtrain_no_time\u001b[0m\u001b[1;33m)\u001b[0m\u001b[1;33m\u001b[0m\u001b[1;33m\u001b[0m\u001b[0m\n\u001b[0m\u001b[0;32m      2\u001b[0m \u001b[0mx_time_train_eve\u001b[0m\u001b[1;33m,\u001b[0m \u001b[0mx_time_train_lunch\u001b[0m\u001b[1;33m,\u001b[0m \u001b[0mx_time_train_morning\u001b[0m \u001b[1;33m=\u001b[0m \u001b[0mx_time_train\u001b[0m\u001b[1;33m\u001b[0m\u001b[1;33m\u001b[0m\u001b[0m\n\u001b[0;32m      3\u001b[0m \u001b[0mx_notime_train_eve\u001b[0m\u001b[1;33m,\u001b[0m \u001b[0mx_notime_train_lunch\u001b[0m\u001b[1;33m,\u001b[0m \u001b[0mx_notime_train_morning\u001b[0m \u001b[1;33m=\u001b[0m \u001b[0mx_notime_train\u001b[0m\u001b[1;33m\u001b[0m\u001b[1;33m\u001b[0m\u001b[0m\n\u001b[0;32m      4\u001b[0m \u001b[0my_train_eve\u001b[0m\u001b[1;33m,\u001b[0m \u001b[0my_train_lunch\u001b[0m\u001b[1;33m,\u001b[0m \u001b[0my_train_morning\u001b[0m \u001b[1;33m=\u001b[0m \u001b[0my_train\u001b[0m\u001b[1;33m\u001b[0m\u001b[1;33m\u001b[0m\u001b[0m\n",
      "\u001b[1;32m<ipython-input-163-7509e4839d3c>\u001b[0m in \u001b[0;36mmake_sequence_data\u001b[1;34m(time_data, no_time_data, input_window, out_window)\u001b[0m\n\u001b[0;32m     31\u001b[0m             \u001b[0my_time\u001b[0m\u001b[1;33m.\u001b[0m\u001b[0mappend\u001b[0m\u001b[1;33m(\u001b[0m\u001b[0my\u001b[0m\u001b[1;33m)\u001b[0m\u001b[1;33m\u001b[0m\u001b[1;33m\u001b[0m\u001b[0m\n\u001b[0;32m     32\u001b[0m \u001b[1;33m\u001b[0m\u001b[0m\n\u001b[1;32m---> 33\u001b[1;33m         \u001b[0mx_time\u001b[0m \u001b[1;33m=\u001b[0m \u001b[0mnp\u001b[0m\u001b[1;33m.\u001b[0m\u001b[0mstack\u001b[0m\u001b[1;33m(\u001b[0m\u001b[0mnp\u001b[0m\u001b[1;33m.\u001b[0m\u001b[0mconcatenate\u001b[0m\u001b[1;33m(\u001b[0m\u001b[0mx_time\u001b[0m\u001b[1;33m)\u001b[0m\u001b[1;33m)\u001b[0m\u001b[1;33m\u001b[0m\u001b[1;33m\u001b[0m\u001b[0m\n\u001b[0m\u001b[0;32m     34\u001b[0m         \u001b[0mx_notime\u001b[0m \u001b[1;33m=\u001b[0m \u001b[0mnp\u001b[0m\u001b[1;33m.\u001b[0m\u001b[0mstack\u001b[0m\u001b[1;33m(\u001b[0m\u001b[0mx_notime\u001b[0m\u001b[1;33m)\u001b[0m\u001b[1;33m\u001b[0m\u001b[1;33m\u001b[0m\u001b[0m\n\u001b[0;32m     35\u001b[0m         \u001b[0my_time\u001b[0m \u001b[1;33m=\u001b[0m \u001b[0mnp\u001b[0m\u001b[1;33m.\u001b[0m\u001b[0mstack\u001b[0m\u001b[1;33m(\u001b[0m\u001b[0mnp\u001b[0m\u001b[1;33m.\u001b[0m\u001b[0mconcatenate\u001b[0m\u001b[1;33m(\u001b[0m\u001b[0my_time\u001b[0m\u001b[1;33m)\u001b[0m\u001b[1;33m)\u001b[0m\u001b[1;33m\u001b[0m\u001b[1;33m\u001b[0m\u001b[0m\n",
      "\u001b[1;32m<__array_function__ internals>\u001b[0m in \u001b[0;36mconcatenate\u001b[1;34m(*args, **kwargs)\u001b[0m\n",
      "\u001b[1;31mValueError\u001b[0m: need at least one array to concatenate"
     ]
    }
   ],
   "source": [
    "x_time_train, x_notime_train, y_train = make_sequence_data(train_time, train_no_time)\n",
    "x_time_train_eve, x_time_train_lunch, x_time_train_morning = x_time_train\n",
    "x_notime_train_eve, x_notime_train_lunch, x_notime_train_morning = x_notime_train\n",
    "y_train_eve, y_train_lunch, y_train_morning = y_train"
   ]
  },
  {
   "cell_type": "code",
   "execution_count": 146,
   "metadata": {},
   "outputs": [
    {
     "output_type": "execute_result",
     "data": {
      "text/plain": "(55, 174)"
     },
     "metadata": {},
     "execution_count": 146
    }
   ],
   "source": [
    "x_time_train_eve"
   ]
  },
  {
   "cell_type": "code",
   "execution_count": 127,
   "metadata": {},
   "outputs": [
    {
     "output_type": "execute_result",
     "data": {
      "text/plain": "(9570, 7)"
     },
     "metadata": {},
     "execution_count": 127
    }
   ],
   "source": [
    "y_train_lunch.shape"
   ]
  },
  {
   "cell_type": "code",
   "execution_count": null,
   "metadata": {},
   "outputs": [],
   "source": [
    "train_time, train_no_time = (-1, 20, time_features), (-1, no_time_features)"
   ]
  },
  {
   "cell_type": "code",
   "execution_count": 26,
   "metadata": {},
   "outputs": [
    {
     "output_type": "execute_result",
     "data": {
      "text/plain": "2726066200.0"
     },
     "metadata": {},
     "execution_count": 26
    }
   ],
   "source": [
    "train_time[2,0,0,0]"
   ]
  },
  {
   "cell_type": "code",
   "execution_count": 46,
   "metadata": {
    "tags": []
   },
   "outputs": [
    {
     "output_type": "stream",
     "name": "stdout",
     "text": "2726061000.0\n1135056000\n"
    },
    {
     "output_type": "execute_result",
     "data": {
      "text/plain": "(1135072000, 'evening')"
     },
     "metadata": {},
     "execution_count": 46
    }
   ],
   "source": [
    "i = 3\n",
    "print(train_time[i,0,0,0])\n",
    "print(train_loc_index[i])\n",
    "train_no_time.loc[train_loc_index].index[i]"
   ]
  },
  {
   "cell_type": "code",
   "execution_count": 35,
   "metadata": {},
   "outputs": [
    {
     "output_type": "execute_result",
     "data": {
      "text/plain": "[1135062400,\n 1135072000,\n 2726064000,\n 1135056000,\n 1135066500,\n 2726053000,\n 2726069000,\n 2711066000,\n 2726066200,\n 2726063000,\n 1114068000,\n 2726068000,\n 1135060000,\n 2726052000,\n 1114062500,\n 2711054500,\n 1114052000,\n 2726057000,\n 2711065000,\n 2726060200,\n 1135059500,\n 2726062000,\n 1135070000,\n 2726065200,\n 2711051700,\n 2726066100,\n 1114067000,\n 2726051000,\n 2726059000,\n 2726067000,\n 1114061500,\n 1135069500,\n 2711064000,\n 2726056000,\n 1114066500,\n 2726060100,\n 2726061000,\n 2711069000,\n 2726065100,\n 1135061200,\n 1135067000,\n 1114060500,\n 1114055000,\n 1135063000,\n 2726055000,\n 2711068000,\n 1114059000,\n 1135062500,\n 1114065000,\n 1135057000,\n 1135061100,\n 1114054000,\n 2726054000,\n 1114064500,\n 2711067000]"
     },
     "metadata": {},
     "execution_count": 35
    }
   ],
   "source": [
    "train_loc_index"
   ]
  },
  {
   "cell_type": "code",
   "execution_count": 28,
   "metadata": {},
   "outputs": [
    {
     "output_type": "execute_result",
     "data": {
      "text/plain": "[1135062400,\n 1135072000,\n 2726064000,\n 1135056000,\n 1135066500,\n 2726053000,\n 2726069000,\n 2711066000,\n 2726066200,\n 2726063000,\n 1114068000,\n 2726068000,\n 1135060000,\n 2726052000,\n 1114062500,\n 2711054500,\n 1114052000,\n 2726057000,\n 2711065000,\n 2726060200,\n 1135059500,\n 2726062000,\n 1135070000,\n 2726065200,\n 2711051700,\n 2726066100,\n 1114067000,\n 2726051000,\n 2726059000,\n 2726067000,\n 1114061500,\n 1135069500,\n 2711064000,\n 2726056000,\n 1114066500,\n 2726060100,\n 2726061000,\n 2711069000,\n 2726065100,\n 1135061200,\n 1135067000,\n 1114060500,\n 1114055000,\n 1135063000,\n 2726055000,\n 2711068000,\n 1114059000,\n 1135062500,\n 1114065000,\n 1135057000,\n 1135061100,\n 1114054000,\n 2726054000,\n 1114064500,\n 2711067000]"
     },
     "metadata": {},
     "execution_count": 28
    }
   ],
   "source": [
    "list(set(train_time[:,0,0,0].astype(np.int64)))"
   ]
  },
  {
   "cell_type": "code",
   "execution_count": null,
   "metadata": {},
   "outputs": [],
   "source": []
  }
 ]
}