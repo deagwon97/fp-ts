{
 "metadata": {
  "language_info": {
   "codemirror_mode": {
    "name": "ipython",
    "version": 3
   },
   "file_extension": ".py",
   "mimetype": "text/x-python",
   "name": "python",
   "nbconvert_exporter": "python",
   "pygments_lexer": "ipython3",
   "version": "3.8.5-final"
  },
  "orig_nbformat": 2,
  "kernelspec": {
   "name": "Python 3.8.5 64-bit ('deep': conda)",
   "display_name": "Python 3.8.5 64-bit ('deep': conda)",
   "metadata": {
    "interpreter": {
     "hash": "e3dd400f5d87c1a87f15209f9ca1847d91223dd67820b2a3322b88f3be052679"
    }
   }
  }
 },
 "nbformat": 4,
 "nbformat_minor": 2,
 "cells": [
  {
   "cell_type": "code",
   "execution_count": 5,
   "metadata": {},
   "outputs": [],
   "source": [
    "import pandas as pd\n",
    "import numpy as np\n",
    "import random\n",
    "from sklearn.preprocessing import StandardScaler\n",
    "import gc\n",
    "import matplotlib.pyplot as plt\n",
    "import pickle\n",
    "import torch\n",
    "from utils.preprocess_utils import *"
   ]
  },
  {
   "cell_type": "code",
   "execution_count": 10,
   "metadata": {},
   "outputs": [],
   "source": [
    "nontime = pd.read_csv('data/original/nontime_data.txt', sep = ' ')\n",
    "time = pd.read_csv('data/original/time_data.txt', sep = ' ')\n",
    "\n",
    "# load data\n",
    "time_data = pd.read_csv('data/original/time_data.txt', sep  = ' ') \n",
    "time_data = df2npy(time_data)\n",
    "morning_data = time_data[:,2,:,:]\n",
    "lunch_data = time_data[:,1,:,:]\n",
    "evening_data = time_data[:,0,:,:]\n",
    "morning_data, train_valid_test_loc_index, m_time_scaler = split_train_valid_test(morning_data)\n",
    "lunch_data, _, l_time_scaler = split_train_valid_test(lunch_data)\n",
    "evening_data, _, e_time_scaler = split_train_valid_test(evening_data)\n",
    "\n",
    "nontime_data = pd.read_csv('data/original/nontime_data.txt', sep = ' ')\n",
    "notime, no_time_scaler = split_notime_data(nontime_data, train_valid_test_loc_index)\n",
    "code_list = evening_data[0][:,0,0]\n",
    "def name2index(dong_name):\n",
    "    for idx, code in enumerate(code_list):\n",
    "        if code == time[time.HDONG_NM == dong_name].HDONG_CD.iloc[0]:\n",
    "            return(idx)\n",
    "def append_trend_cycle(flow_pop):\n",
    "    new_flow_pop = np.zeros([len(flow_pop), 2])\n",
    "    #new_flow_pop[:, 0] = seq2cycle(flow_pop)[ROLLSIZE:]\n",
    "    new_flow_pop[:, 0] = seq2cycle_weight(flow_pop)\n",
    "    new_flow_pop[:, 1] = flow_pop - new_flow_pop[:, 0]\n",
    "    #print(new_flow_pop)\n",
    "    return new_flow_pop\n",
    "def split_sequence(sequence, target_index  = 2):\n",
    "    seq_x = sequence[:, :]\n",
    "    trend_cycle_x = append_trend_cycle(seq_x[:,target_index])\n",
    "    seq_x = np.concatenate([seq_x[ROLLSIZE:,:],\n",
    "                            trend_cycle_x[ROLLSIZE:]], axis = 1)\n",
    "    return seq_x"
   ]
  },
  {
   "cell_type": "code",
   "execution_count": 11,
   "metadata": {},
   "outputs": [],
   "source": [
    "time_data = morning_data[3][:,-24:,:]\n",
    "notime_data = notime\n",
    "x_time = []\n",
    "x_notime = []\n",
    "\n",
    "for loc in range(len(time_data)):\n",
    "    loc_code = time_data[loc,0,0]\n",
    "    x = split_sequence(time_data[loc,:,:])\n",
    "    x_time.append(x.reshape(1, x.shape[0], x.shape[1]))\n",
    "    no_time = notime_data.loc[loc_code]\n",
    "    aug_notime = np.zeros(3)\n",
    "    aug_notime[:] = no_time\n",
    "    x_notime.append(aug_notime.reshape(1,-1))\n",
    "x_time = np.concatenate(x_time)\n",
    "x_notime = np.concatenate(x_notime)\n",
    "\n",
    "path = 'data/preprocess/'\n",
    "with open(path + 'morning_last_time.pkl', 'wb') as f:\n",
    "    pickle.dump(x_time, f)\n",
    "with open(path + 'morning_last_notime.pkl', 'wb') as f:\n",
    "    pickle.dump(x_notime, f)"
   ]
  },
  {
   "cell_type": "code",
   "execution_count": 12,
   "metadata": {},
   "outputs": [],
   "source": [
    "time_data = lunch_data[3][:,-24:,:]\n",
    "notime_data = notime\n",
    "x_time = []\n",
    "x_notime = []\n",
    "\n",
    "for loc in range(len(time_data)):\n",
    "    loc_code = time_data[loc,0,0]\n",
    "    x = split_sequence(time_data[loc,:,:])\n",
    "    x_time.append(x.reshape(1, x.shape[0], x.shape[1]))\n",
    "    no_time = notime_data.loc[loc_code]\n",
    "    aug_notime = np.zeros(3)\n",
    "    aug_notime[:] = no_time\n",
    "    x_notime.append(aug_notime.reshape(1,-1))\n",
    "\n",
    "x_time = np.concatenate(x_time)\n",
    "x_notime = np.concatenate(x_notime)\n",
    "\n",
    "path = 'data/preprocess/'\n",
    "with open(path + 'lunch_last_time.pkl', 'wb') as f:\n",
    "    pickle.dump(x_time, f)\n",
    "with open(path + 'lunch_last_notime.pkl', 'wb') as f:\n",
    "    pickle.dump(x_notime, f)"
   ]
  },
  {
   "cell_type": "code",
   "execution_count": 13,
   "metadata": {},
   "outputs": [],
   "source": [
    "time_data = evening_data[3][:,-24:,:]\n",
    "notime_data = notime\n",
    "x_time = []\n",
    "x_notime = []\n",
    "\n",
    "for loc in range(len(time_data)):\n",
    "    loc_code = time_data[loc,0,0]\n",
    "    x = split_sequence(time_data[loc,:,:])\n",
    "    x_time.append(x.reshape(1, x.shape[0], x.shape[1]))\n",
    "    no_time = notime_data.loc[loc_code]\n",
    "    aug_notime = np.zeros(3)\n",
    "    aug_notime[:] = no_time\n",
    "    x_notime.append(aug_notime.reshape(1,-1))\n",
    "\n",
    "x_time = np.concatenate(x_time)\n",
    "x_notime = np.concatenate(x_notime)\n",
    "\n",
    "path = 'data/preprocess/'\n",
    "with open(path + 'evening_last_time.pkl', 'wb') as f:\n",
    "    pickle.dump(x_time, f)\n",
    "with open(path + 'evening_last_notime.pkl', 'wb') as f:\n",
    "    pickle.dump(x_notime, f)"
   ]
  },
  {
   "cell_type": "code",
   "execution_count": null,
   "metadata": {},
   "outputs": [],
   "source": []
  }
 ]
}